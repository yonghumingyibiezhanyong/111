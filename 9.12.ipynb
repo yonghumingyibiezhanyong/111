{
 "cells": [
  {
   "cell_type": "markdown",
   "metadata": {},
   "source": [
    "# 选择\n",
    "## 布尔类型、数值和表达式\n",
    "![](../Photo/33.png)\n",
    "- 注意：比较运算符的相等是两个等到，一个等到代表赋值\n",
    "- 在Python中可以用整型0来代表False，其他数字来代表True\n",
    "- 后面还会讲到 is 在判断语句中的用发"
   ]
  },
  {
   "cell_type": "code",
   "execution_count": 2,
   "metadata": {},
   "outputs": [
    {
     "data": {
      "text/plain": [
       "True"
      ]
     },
     "execution_count": 2,
     "metadata": {},
     "output_type": "execute_result"
    }
   ],
   "source": [
    "0==False\n"
   ]
  },
  {
   "cell_type": "markdown",
   "metadata": {},
   "source": [
    "## 字符串的比较使用ASCII值"
   ]
  },
  {
   "cell_type": "code",
   "execution_count": 1,
   "metadata": {},
   "outputs": [
    {
     "data": {
      "text/plain": [
       "False"
      ]
     },
     "execution_count": 1,
     "metadata": {},
     "output_type": "execute_result"
    }
   ],
   "source": [
    "'a'>'b'\n"
   ]
  },
  {
   "cell_type": "code",
   "execution_count": 4,
   "metadata": {},
   "outputs": [
    {
     "name": "stdout",
     "output_type": "stream",
     "text": [
      "输入个数字98\n",
      "A\n"
     ]
    }
   ],
   "source": [
    "c = eval(input('输入个数字'))\n",
    "if 100>=c>90:\n",
    "    print('A')\n",
    "\n",
    "elif 90=>c>80:\n",
    "    print('B')\n",
    "elif 80=>c>60:\n",
    "    print('C')\n",
    "elif c=<60:\n",
    "    print('D')"
   ]
  },
  {
   "cell_type": "markdown",
   "metadata": {},
   "source": [
    "## Markdown \n",
    "- https://github.com/younghz/Markdown"
   ]
  },
  {
   "cell_type": "markdown",
   "metadata": {},
   "source": [
    "## EP:\n",
    "- <img src=\"../Photo/34.png\"></img>\n",
    "- 输入一个数字，判断其实奇数还是偶数"
   ]
  },
  {
   "cell_type": "code",
   "execution_count": null,
   "metadata": {},
   "outputs": [],
   "source": []
  },
  {
   "cell_type": "markdown",
   "metadata": {},
   "source": [
    "## 产生随机数字\n",
    "- 函数random.randint(a,b) 可以用来产生一个a和b之间且包括a和b的随机整数"
   ]
  },
  {
   "cell_type": "code",
   "execution_count": 2,
   "metadata": {},
   "outputs": [
    {
     "name": "stdout",
     "output_type": "stream",
     "text": [
      "输入个数字6\n",
      "太大了\n",
      "输入个数字3\n",
      "太大了\n",
      "输入个数字2\n",
      "you win!\n"
     ]
    }
   ],
   "source": [
    "import random\n",
    "a =random.randint(1,5)\n",
    "while  True:\n",
    "    c = eval(input('输入个数字'))\n",
    "    if c==a:\n",
    "        print('you win!')\n",
    "        break\n",
    "    elif c<a:\n",
    "        print('太小了')\n",
    "    elif c>a:\n",
    "        print('太大了')\n",
    "        "
   ]
  },
  {
   "cell_type": "markdown",
   "metadata": {},
   "source": [
    "##  其他random方法\n",
    "- random.random 返回0.0到1.0之间前闭后开区间的随机浮点\n",
    "- random.randrange(a,b) 前闭后开"
   ]
  },
  {
   "cell_type": "code",
   "execution_count": 4,
   "metadata": {},
   "outputs": [
    {
     "data": {
      "text/plain": [
       "4"
      ]
     },
     "execution_count": 4,
     "metadata": {},
     "output_type": "execute_result"
    }
   ],
   "source": [
    "random.randrange(0,10,2)"
   ]
  },
  {
   "cell_type": "markdown",
   "metadata": {},
   "source": [
    "## EP：\n",
    "- 产生两个随机整数number1和number2，然后显示给用户，使用户输入数字的和，并判定其是否正确\n",
    "- 进阶:写一个随机序号点名程序"
   ]
  },
  {
   "cell_type": "code",
   "execution_count": 22,
   "metadata": {},
   "outputs": [
    {
     "name": "stdout",
     "output_type": "stream",
     "text": [
      "输入个数字6\n",
      "lose\n",
      "输入个数字9\n",
      "lose\n",
      "输入个数字2\n",
      "lose\n",
      "输入个数字3\n",
      "lose\n",
      "输入个数字4\n",
      "lose\n",
      "输入个数字5\n",
      "lose\n",
      "输入个数字6\n",
      "lose\n",
      "输入个数字7\n",
      "lose\n",
      "输入个数字8\n",
      "lose\n",
      "输入个数字0\n",
      "you win!\n"
     ]
    }
   ],
   "source": [
    "import random\n",
    "a=random.randrange(0,5)\n",
    "b=random.randrange(0,3)\n",
    "while  True:\n",
    "    c = eval(input('输入个数字'))\n",
    "    if c==a+b:\n",
    "        print('you win!')\n",
    "        break\n",
    "    else:\n",
    "        print('lose')"
   ]
  },
  {
   "cell_type": "code",
   "execution_count": null,
   "metadata": {},
   "outputs": [],
   "source": []
  },
  {
   "cell_type": "markdown",
   "metadata": {},
   "source": [
    "## if语句\n",
    "- 如果条件正确就执行一个单向if语句，亦即当条件为真的时候才执行if内部的语句\n",
    "- Python有很多选择语句:\n",
    "> - 单向if \n",
    "  - 双向if-else\n",
    "  - 嵌套if\n",
    "  - 多向if-elif-else\n",
    "  \n",
    "- 注意：当语句含有子语句的时候，那么一定至少要有一个缩进，也就是说如果有儿子存在，那么一定要缩进\n",
    "- 切记不可tab键和space混用，单用tab 或者 space\n",
    "- 当你输出的结果是无论if是否为真时都需要显示时，语句应该与if对齐"
   ]
  },
  {
   "cell_type": "code",
   "execution_count": null,
   "metadata": {},
   "outputs": [],
   "source": [
    "elif xxx:\n",
    "    pass\n",
    "else:\n",
    "    pass"
   ]
  },
  {
   "cell_type": "code",
   "execution_count": 24,
   "metadata": {},
   "outputs": [
    {
     "name": "stdout",
     "output_type": "stream",
     "text": [
      "多大了31\n",
      "年龄太大了，不见\n"
     ]
    }
   ],
   "source": [
    "age = eval(input('多大了'))\n",
    "if age<=30:\n",
    "    face = str(input('长得怎么样'))\n",
    "    if face=='帅':\n",
    "        money = str(input('收入怎么样'))\n",
    "        if money=='高':\n",
    "            print('见见吧')\n",
    "        elif money=='中等':\n",
    "                gong = input('是公务员吗')\n",
    "                if gong=='是':\n",
    "                    print('那勉强见见吧')\n",
    "                else:\n",
    "                    print('工作不稳定，不见')\n",
    "        else:\n",
    "            print('养不起我和孩纸，不见')\n",
    "    else:\n",
    "        print('影响下一代基因，不见')\n",
    "else:\n",
    "    print('年龄太大了，不见')\n",
    "           \n",
    "    "
   ]
  },
  {
   "cell_type": "markdown",
   "metadata": {},
   "source": [
    "## EP：\n",
    "- 用户输入一个数字，判断其实奇数还是偶数\n",
    "- 进阶：可以查看下4.5实例研究猜生日"
   ]
  },
  {
   "cell_type": "markdown",
   "metadata": {},
   "source": [
    "## 双向if-else 语句\n",
    "- 如果条件为真，那么走if内部语句，否则走else内部语句"
   ]
  },
  {
   "cell_type": "markdown",
   "metadata": {},
   "source": [
    "## EP：\n",
    "- 产生两个随机整数number1和number2，然后显示给用户，使用户输入数字，并判定其是否正确,如果正确打印“you‘re correct”，否则打印正确错误"
   ]
  },
  {
   "cell_type": "markdown",
   "metadata": {},
   "source": [
    "## 嵌套if 和多向if-elif-else\n",
    "![](../Photo/35.png)"
   ]
  },
  {
   "cell_type": "markdown",
   "metadata": {},
   "source": [
    "## EP：\n",
    "- 提示用户输入一个年份，然后显示表示这一年的动物\n",
    "![](../Photo/36.png)\n",
    "- 计算身体质量指数的程序\n",
    "- BMI = 以千克为单位的体重除以以米为单位的身高\n",
    "![](../Photo/37.png)"
   ]
  },
  {
   "cell_type": "code",
   "execution_count": 23,
   "metadata": {},
   "outputs": [
    {
     "name": "stdout",
     "output_type": "stream",
     "text": [
      "输入你的出生年份1996\n",
      "鼠\n"
     ]
    }
   ],
   "source": [
    "year = eval(input('输入你的出生年份'))\n",
    "a = year % 12\n",
    "if a == 0:\n",
    "    print('猴')\n",
    "elif a == 1:\n",
    "    print('鸡')\n",
    "elif a == 2:\n",
    "    print('狗')\n",
    "elif a == 3:\n",
    "    print('猪')\n",
    "elif a == 4:\n",
    "    print('鼠')\n",
    "elif a == 5:\n",
    "    print('牛')\n",
    "elif a == 6:\n",
    "    print('虎')\n",
    "elif a == 7:\n",
    "    print('兔')\n",
    "elif a == 8:\n",
    "    print('龙')\n",
    "elif a == 9:\n",
    "    print('蛇')\n",
    "elif a == 10:\n",
    "    print('马')\n",
    "elif a == 11:\n",
    "    print('羊')\n"
   ]
  },
  {
   "cell_type": "code",
   "execution_count": 24,
   "metadata": {},
   "outputs": [
    {
     "name": "stdout",
     "output_type": "stream",
     "text": [
      "输入你的体重58\n",
      "输入你的身高1.71\n",
      "标准\n"
     ]
    }
   ],
   "source": [
    "kg = eval(input('输入你的体重'))\n",
    "m = eval(input('输入你的身高'))\n",
    "BMI = kg/(m**2)\n",
    "if BMI<18.5:\n",
    "    print('超轻')\n",
    "elif 18.5<=BMI<25.0:\n",
    "    print('标准')\n",
    "elif 25.0<=BMI<30.0:\n",
    "    print('超重')\n",
    "elif 30.0<=BMI:\n",
    "    print('痴肥')\n"
   ]
  },
  {
   "cell_type": "code",
   "execution_count": 25,
   "metadata": {},
   "outputs": [
    {
     "data": {
      "text/plain": [
       "19.835162956123252"
      ]
     },
     "execution_count": 25,
     "metadata": {},
     "output_type": "execute_result"
    }
   ],
   "source": [
    "58/(1.71**2)"
   ]
  },
  {
   "cell_type": "markdown",
   "metadata": {},
   "source": [
    "## 逻辑运算符\n",
    "![](../Photo/38.png)"
   ]
  },
  {
   "cell_type": "code",
   "execution_count": null,
   "metadata": {},
   "outputs": [],
   "source": [
    "#if ' xx' not(取反)/and/or 'xx':\n",
    "    #print('')\n"
   ]
  },
  {
   "cell_type": "markdown",
   "metadata": {},
   "source": [
    "![](../Photo/39.png)\n",
    "![](../Photo/40.png)"
   ]
  },
  {
   "cell_type": "markdown",
   "metadata": {},
   "source": [
    "## EP：\n",
    "- 判定闰年：一个年份如果能被4整除但不能被100整除，或者能被400整除，那么这个年份就是闰年\n",
    "- 提示用户输入一个年份，并返回是否是闰年\n",
    "- 提示用户输入一个数字，判断其是否为水仙花数"
   ]
  },
  {
   "cell_type": "code",
   "execution_count": 27,
   "metadata": {},
   "outputs": [
    {
     "name": "stdout",
     "output_type": "stream",
     "text": [
      "输入一个年份1996\n",
      "闰年\n"
     ]
    }
   ],
   "source": [
    "year = eval(input('输入一个年份'))\n",
    "if (year % 4 ==0)and (year % 100 !=0) or year % 400 ==0:\n",
    "    print('闰年')\n",
    "else:\n",
    "    print('不是闰年')"
   ]
  },
  {
   "cell_type": "code",
   "execution_count": 35,
   "metadata": {},
   "outputs": [
    {
     "name": "stdout",
     "output_type": "stream",
     "text": [
      "输入一个三位数153\n",
      "水仙花数\n"
     ]
    }
   ],
   "source": [
    "num = eval(input('输入一个三位数'))\n",
    "a = ((num%10)**3)+(((num//10)%10)**3)+(((num//100))**3)\n",
    "if num == a:\n",
    "    print('水仙花数')\n",
    "else:\n",
    "    print('不是水仙花数')\n",
    "    "
   ]
  },
  {
   "cell_type": "code",
   "execution_count": 36,
   "metadata": {},
   "outputs": [
    {
     "data": {
      "text/plain": [
       "9"
      ]
     },
     "execution_count": 36,
     "metadata": {},
     "output_type": "execute_result"
    }
   ],
   "source": [
    "(987//100)\n"
   ]
  },
  {
   "cell_type": "markdown",
   "metadata": {},
   "source": [
    "## 实例研究：彩票\n",
    "![](../Photo/41.png)"
   ]
  },
  {
   "cell_type": "code",
   "execution_count": null,
   "metadata": {},
   "outputs": [],
   "source": [
    "num =eval(input('请输入一个两位数'))\n"
   ]
  },
  {
   "cell_type": "code",
   "execution_count": 49,
   "metadata": {},
   "outputs": [
    {
     "name": "stdout",
     "output_type": "stream",
     "text": [
      "72\n",
      "请输入一个两位数75\n",
      "1000\n"
     ]
    }
   ],
   "source": [
    "import random\n",
    "a=random.randrange(1,9)\n",
    "b=random.randrange(0,9)\n",
    "print(a*10+b)\n",
    "num =eval(input('请输入一个两位数'))\n",
    "if num==a*10+b:\n",
    "    print('you win!10000')\n",
    "elif (num//10==a and num%10 ==b) or (num % 10 ==a and num //10 == b):\n",
    "    print('3000')\n",
    "elif (num//10==a or num%10 ==b) or (num % 10 ==a or num //10 == b):\n",
    "    print('1000')\n",
    "else:\n",
    "    print('sorry')"
   ]
  },
  {
   "cell_type": "code",
   "execution_count": 3,
   "metadata": {},
   "outputs": [
    {
     "name": "stdout",
     "output_type": "stream",
     "text": [
      "34\n",
      "请输入一个两位数参与抽奖：23\n",
      "恭喜你抽到三等奖，1000\n"
     ]
    }
   ],
   "source": [
    "import random\n",
    "a=random.randrange(1,9)\n",
    "b=random.randrange(0,9)\n",
    "c =str(a)+str(b)\n",
    "print(c)\n",
    "num =input('请输入一个两位数参与抽奖：')\n",
    "if num==c:\n",
    "    print('恭喜你抽到一等奖!10000')\n",
    "elif c[0]==num[1] and c[1] ==num[0]:\n",
    "    print('恭喜你抽到二等奖，3000')\n",
    "elif (num[1]==c[0] or num[0] ==c[0]) or (num[0]==c[1] or num[1] == c[1]):\n",
    "    print('恭喜你抽到三等奖，1000')\n",
    "else:\n",
    "    print('谢谢参与')"
   ]
  },
  {
   "cell_type": "markdown",
   "metadata": {},
   "source": [
    "# Homework\n",
    "- 1\n",
    "![](../Photo/42.png)"
   ]
  },
  {
   "cell_type": "code",
   "execution_count": null,
   "metadata": {},
   "outputs": [],
   "source": [
    "import math\n",
    "a,b,c=eval(input('>>'))\n",
    "pan=b**2-4*a*c\n",
    "r1=((-b)+math.sqrt(pan))/(2*a)\n",
    "r2=((-b)-math.sqrt(pan))/(2*a)\n",
    "if pan>0:\n",
    "    print(r1,r2)\n",
    "elif pan==0:\n",
    "    print(r1)\n",
    "else :\n",
    "    print('The equation has no real roots')"
   ]
  },
  {
   "cell_type": "markdown",
   "metadata": {},
   "source": [
    "- 2\n",
    "![](../Photo/43.png)"
   ]
  },
  {
   "cell_type": "code",
   "execution_count": 5,
   "metadata": {},
   "outputs": [
    {
     "name": "stdout",
     "output_type": "stream",
     "text": [
      "70 59\n",
      "输入两个整数的和：129\n",
      "True\n"
     ]
    }
   ],
   "source": [
    "import random\n",
    "a=random.randrange(0,100)\n",
    "b=random.randrange(0,100)\n",
    "print(a,b)\n",
    "c = eval(input('输入两个整数的和：'))\n",
    "if c==a+b:\n",
    "    print('True')\n",
    "else:\n",
    "    print('False')"
   ]
  },
  {
   "cell_type": "markdown",
   "metadata": {},
   "source": [
    "- 3\n",
    "![](../Photo/44.png)"
   ]
  },
  {
   "cell_type": "code",
   "execution_count": 19,
   "metadata": {},
   "outputs": [
    {
     "name": "stdout",
     "output_type": "stream",
     "text": [
      "今天是哪一天（星期天是0，星期一是1,。。。，星期六是6）：0\n",
      "今天之后到未来某天的天数：31\n",
      "今天是星期日并且31天之后是星期三\n"
     ]
    }
   ],
   "source": [
    "day = eval(input('今天是哪一天（星期天是0，星期一是1,。。。，星期六是6）：'))\n",
    "days = eval(input('今天之后到未来某天的天数：'))\n",
    "n = day + days\n",
    "if day==0:\n",
    "    a='星期日'\n",
    "elif day==1:\n",
    "    a='星期一'\n",
    "elif day==2:\n",
    "    a='星期二'\n",
    "elif day==3:\n",
    "    a='星期三'\n",
    "elif day==4:\n",
    "    a='星期四'\n",
    "elif day==5:\n",
    "    a='星期五'\n",
    "elif day==6:\n",
    "    a='星期六'\n",
    "if n%7 ==0:\n",
    "    print('今天是'+str(a)+'并且'+str(days)+'天之后是星期天')\n",
    "elif n%7 ==1:\n",
    "    print('今天是'+str(a)+'并且'+str(days)+'天之后是星期一')\n",
    "elif n%7 ==2:\n",
    "    print('今天是'+str(a)+'并且'+str(days)+'天之后是星期二')\n",
    "elif n%7 ==3:\n",
    "    print('今天是'+str(a)+'并且'+str(days)+'天之后是星期三')\n",
    "elif n%7 ==4:\n",
    "    print('今天是'+str(a)+'并且'+str(days)+'天之后是星期四')\n",
    "elif n%7 ==5:\n",
    "    print('今天是'+str(a)+'并且'+str(days)+'天之后是星期五')\n",
    "elif n%7 ==6:\n",
    "    print('今天是'+str(a)+'并且'+str(days)+'天之后是星期六')\n"
   ]
  },
  {
   "cell_type": "markdown",
   "metadata": {},
   "source": [
    "- 4\n",
    "![](../Photo/45.png)"
   ]
  },
  {
   "cell_type": "code",
   "execution_count": 17,
   "metadata": {},
   "outputs": [
    {
     "name": "stdout",
     "output_type": "stream",
     "text": [
      "输入三个整数：8,0,5\n",
      "0 5 8\n"
     ]
    }
   ],
   "source": [
    "a,b,c = eval(input('输入三个整数：'))\n",
    "if a>=b and b>=c:\n",
    "    print(c,b,a)\n",
    "elif a>=b and b<=c and a>=c:\n",
    "    print(b,c,a)\n",
    "elif b>=a and a>=c :\n",
    "    print(c,a,b)\n",
    "elif b>=a and a<=c and b>=c:\n",
    "    print(a,c,b)\n",
    "elif c>=b and b>=a:\n",
    "    print(a,b,c)\n",
    "elif c>=b and b<=a and c>=a:\n",
    "    print(b,a,c)"
   ]
  },
  {
   "cell_type": "markdown",
   "metadata": {},
   "source": [
    "- 5\n",
    "![](../Photo/46.png)"
   ]
  },
  {
   "cell_type": "code",
   "execution_count": 23,
   "metadata": {},
   "outputs": [
    {
     "name": "stdout",
     "output_type": "stream",
     "text": [
      "输入一种包装大米的重量和价格：50,24.59\n",
      "输入另一种包装大米的重量和价格：25,11.99\n",
      "第二种包装的大米价格便宜\n"
     ]
    }
   ],
   "source": [
    "a,b = eval(input('输入一种包装大米的重量和价格：'))\n",
    "a1,b1= eval(input('输入另一种包装大米的重量和价格：'))\n",
    "n = b/a\n",
    "n1 = b1/a1\n",
    "if n>n1 :\n",
    "    print('第二种包装的大米价格便宜')\n",
    "elif n<n1:\n",
    "    print('第一种包装的大米价格便宜')\n",
    "else:\n",
    "    print('两种包装的大米价格一样')"
   ]
  },
  {
   "cell_type": "markdown",
   "metadata": {},
   "source": [
    "- 6\n",
    "![](../Photo/47.png)"
   ]
  },
  {
   "cell_type": "code",
   "execution_count": 27,
   "metadata": {},
   "outputs": [
    {
     "name": "stdout",
     "output_type": "stream",
     "text": [
      "输入一个年份和月份：2005,3\n",
      "2005年3月有31天\n"
     ]
    }
   ],
   "source": [
    "year,month= eval(input('输入一个年份和月份：'))\n",
    "if (year % 4 ==0)and (year % 100 !=0) or year % 400 ==0:\n",
    "    if month ==1 or month ==3 or month ==5 or month ==7 or month ==8 or month ==10 or month ==12:\n",
    "        print(str(year)+'年'+str(month)+'月有31天')\n",
    "    elif month ==4 or month ==6 or month ==9 or month ==11 :\n",
    "        print(str(year)+'年'+str(month)+'月有30天')\n",
    "    elif month ==2:\n",
    "        print(str(year)+'年'+str(month)+'月有29天')\n",
    "else:\n",
    "    if month ==1 or month ==3 or month ==5 or month ==7 or month ==8 or month ==10 or month ==12:\n",
    "        print(str(year)+'年'+str(month)+'月有31天')\n",
    "    elif month ==4 or month ==6 or month ==9 or month ==11 :\n",
    "        print(str(year)+'年'+str(month)+'月有30天')\n",
    "    elif month ==2:\n",
    "        print(str(year)+'年'+str(month)+'月有28天')"
   ]
  },
  {
   "cell_type": "markdown",
   "metadata": {},
   "source": [
    "- 7\n",
    "![](../Photo/48.png)"
   ]
  },
  {
   "cell_type": "code",
   "execution_count": 48,
   "metadata": {},
   "outputs": [
    {
     "name": "stdout",
     "output_type": "stream",
     "text": [
      "选择硬币正反面：反面\n",
      "猜错了！\n"
     ]
    }
   ],
   "source": [
    "import random\n",
    "choose= input('选择硬币正反面：')\n",
    "a =random.randint(1,2)\n",
    "if a == 1:\n",
    "     b='正面'\n",
    "elif a == 2:\n",
    "     b='反面'\n",
    "if choose == b:\n",
    "    print('猜对了！')\n",
    "else:\n",
    "    print('猜错了！')\n",
    "\n",
    "   "
   ]
  },
  {
   "cell_type": "markdown",
   "metadata": {},
   "source": [
    "- 8\n",
    "![](../Photo/49.png)"
   ]
  },
  {
   "cell_type": "code",
   "execution_count": 2,
   "metadata": {},
   "outputs": [
    {
     "name": "stdout",
     "output_type": "stream",
     "text": [
      "1\n",
      "剪刀（0）、石头（1）、布（2）：1\n",
      "电脑出的是石头。你出的是石头。你们是平局\n"
     ]
    }
   ],
   "source": [
    "import random\n",
    "a =random.randint(0,2)\n",
    "print(a)\n",
    "s= eval(input('剪刀（0）、石头（1）、布（2）：'))\n",
    "if (a == 0 and s==0) :\n",
    "    print('电脑出的是剪刀。你出的是剪刀。你们是平局')\n",
    "elif  (a==1 and s==1) :\n",
    "    print('电脑出的是石头。你出的是石头。你们是平局')\n",
    "elif (a==2 and s==2):\n",
    "    print('电脑出的是布。你出的是布。你们是平局')\n",
    "elif  (a == 0 and s==2) :\n",
    "    print('电脑出的是剪刀。你出的是布。你输了')\n",
    "elif   (a == 1 and s==0) :\n",
    "    print('电脑出的是石头。你出的是剪刀。你输了')\n",
    "elif   (a == 2 and s==1):\n",
    "    print('电脑出的是布。你出的是石头。你输了')\n",
    "elif   (a == 2 and s==0):\n",
    "    print('电脑出的是布。你出的是剪刀。你赢了')\n",
    "elif  (a == 0 and s==1):\n",
    "    print('电脑出的是剪刀。你出的是石头。你赢了')\n",
    "elif  (a == 1 and s==2):\n",
    "    print('电脑出的是石头。你出的是布。你赢了')"
   ]
  },
  {
   "cell_type": "code",
   "execution_count": 3,
   "metadata": {},
   "outputs": [
    {
     "name": "stdout",
     "output_type": "stream",
     "text": [
      "2\n",
      "剪刀（0）、石头（1）、布（2）：2\n",
      "电脑出的是布。你出的是布。你们是平局\n"
     ]
    }
   ],
   "source": [
    "import random\n",
    "a =random.randint(0,2)\n",
    "print(a)\n",
    "s= eval(input('剪刀（0）、石头（1）、布（2）：'))\n",
    "if a==0 or s==0:\n",
    "    b='剪刀'\n",
    "elif a==1 or s==1:\n",
    "    b='石头'\n",
    "elif a==2 or s==2:\n",
    "    b='布'\n",
    "if (a == 0 and s==0)or (a == 1 and s==1) or (a == 2 and s==2) :\n",
    "    print('电脑出的是'+str(b)+'。你出的是'+str(b)+'。你们是平局')\n",
    "elif  (a == 0 and s==2) or (a == 1 and s==0) or (a == 2 and s==1):\n",
    "    print('电脑出的是'+str(b)+'。你出的是'+str(b)+'。你输了')\n",
    "elif  (a == 0 and s==1) or (a == 1 and s==2) or (a == 2 and s==0):\n",
    "    print('电脑出的是'+str(b)+'。你出的是'+str(b)+'。你赢了')"
   ]
  },
  {
   "cell_type": "markdown",
   "metadata": {},
   "source": [
    "- 9\n",
    "![](../Photo/50.png)"
   ]
  },
  {
   "cell_type": "code",
   "execution_count": 20,
   "metadata": {},
   "outputs": [
    {
     "ename": "SyntaxError",
     "evalue": "invalid character in identifier (<ipython-input-20-3ff61ccdb249>, line 1)",
     "output_type": "error",
     "traceback": [
      "\u001b[1;36m  File \u001b[1;32m\"<ipython-input-20-3ff61ccdb249>\"\u001b[1;36m, line \u001b[1;32m1\u001b[0m\n\u001b[1;33m    y = eval(input('请输入年份：'))\u001b[0m\n\u001b[1;37m     ^\u001b[0m\n\u001b[1;31mSyntaxError\u001b[0m\u001b[1;31m:\u001b[0m invalid character in identifier\n"
     ]
    }
   ],
   "source": [
    "y = eval(input('请输入年份：'))\n",
    "m = eval(input('请输入月份：'))\n",
    "q = eval(input('请输入天数：'))\n",
    "j = y//100//1\n",
    "k = y%100\n",
    "if m == 1:\n",
    "    m = 13\n",
    "elif m == 2:\n",
    "    m = 14\n",
    "h = (q + (26*(m+1))/10//1+k+k/4//1+j/4//1+5*j)%7\n",
    "print(round(h))"
   ]
  },
  {
   "cell_type": "markdown",
   "metadata": {},
   "source": [
    "- 10\n",
    "![](../Photo/51.png)"
   ]
  },
  {
   "cell_type": "code",
   "execution_count": 13,
   "metadata": {},
   "outputs": [
    {
     "name": "stdout",
     "output_type": "stream",
     "text": [
      "The card you picked is the 3 of Spade\n"
     ]
    }
   ],
   "source": [
    "import random\n",
    "size=['Ace',2,3,4,5,6,7,8,9,10,'Jack','Queen','King']\n",
    "A=random.randint(0,len(size)-1)\n",
    "color=['Diamond','Heart','Spade','Club']\n",
    "B=random.randint(0,len(color)-1)\n",
    "print('The card you picked is the ' + str(size[A]) + ' of ' + str(color[B]))"
   ]
  },
  {
   "cell_type": "markdown",
   "metadata": {},
   "source": [
    "- 11\n",
    "![](../Photo/52.png)"
   ]
  },
  {
   "cell_type": "code",
   "execution_count": 27,
   "metadata": {},
   "outputs": [
    {
     "name": "stdout",
     "output_type": "stream",
     "text": [
      "输入一个三位整数:121\n",
      "121是一个回文数\n"
     ]
    }
   ],
   "source": [
    "num =input('输入一个三位整数:')\n",
    "if num[0] ==num[2]:\n",
    "    print(num+'是一个回文数')\n",
    "else:\n",
    "    print(num+'不是一个回文数')\n"
   ]
  },
  {
   "cell_type": "markdown",
   "metadata": {},
   "source": [
    "- 12\n",
    "![](../Photo/53.png)"
   ]
  },
  {
   "cell_type": "code",
   "execution_count": 19,
   "metadata": {},
   "outputs": [
    {
     "name": "stdout",
     "output_type": "stream",
     "text": [
      "输入三角形三个边:4,1,2\n",
      "这三条边无法组成三角形\n"
     ]
    }
   ],
   "source": [
    "l1,l2,l3 =eval(input('输入三角形三个边:'))\n",
    "perimeter = l1 + l2 + l3\n",
    "if   l1 + l2 > l3 and   l1 + l3 > l2 and l2 + l3 > l1:\n",
    "    print('三角形周长是',perimeter)\n",
    "else:\n",
    "    print('这三条边无法组成三角形')"
   ]
  }
 ],
 "metadata": {
  "kernelspec": {
   "display_name": "Python 3",
   "language": "python",
   "name": "python3"
  },
  "language_info": {
   "codemirror_mode": {
    "name": "ipython",
    "version": 3
   },
   "file_extension": ".py",
   "mimetype": "text/x-python",
   "name": "python",
   "nbconvert_exporter": "python",
   "pygments_lexer": "ipython3",
   "version": "3.6.4"
  }
 },
 "nbformat": 4,
 "nbformat_minor": 2
}
